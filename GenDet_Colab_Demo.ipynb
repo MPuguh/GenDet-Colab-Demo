{
  "nbformat": 4,
  "nbformat_minor": 0,
  "metadata": {
    "colab": {
      "provenance": []
    },
    "kernelspec": {
      "name": "python3",
      "display_name": "Python 3"
    },
    "language_info": {
      "name": "python"
    }
  },
  "cells": [
    {
      "cell_type": "code",
      "execution_count": null,
      "metadata": {
        "id": "Z74HeY68xt6i"
      },
      "outputs": [],
      "source": [
        "# 1. Clone repo\n",
        "!git clone https://github.com/GenImage-Dataset/GenDet.git\n",
        "%cd GenDet"
      ]
    },
    {
      "cell_type": "code",
      "source": [
        "# 2. Install dependencies\n",
        "!pip install -r requirements.txt"
      ],
      "metadata": {
        "id": "RRqJpSc7xyPA"
      },
      "execution_count": null,
      "outputs": []
    },
    {
      "cell_type": "code",
      "source": [
        "# 3. Jalankan inference\n",
        "!python run_inference.py --config configs/eval_config.yaml"
      ],
      "metadata": {
        "id": "2kxrySU9xz6a"
      },
      "execution_count": null,
      "outputs": []
    }
  ]
}